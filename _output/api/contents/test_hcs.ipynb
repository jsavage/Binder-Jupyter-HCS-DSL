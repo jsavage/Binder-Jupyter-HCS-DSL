{
 "cells": [
  {
   "cell_type": "markdown",
   "metadata": {},
   "source": [
    "# HCS DSL Test Notebook\n",
    "This notebook demonstrates basic HCS DSL functionality"
   ]
  },
  {
   "cell_type": "code",
   "execution_count": null,
   "metadata": {},
   "source": [
    "# Basic HCS command test\n",
    "%%hcs\n",
    "DEFINE SEQUENCE test_seq\n",
    "    MOVE axis1 TO 100\n",
    "    WAIT 1\n",
    "    MOVE axis1 TO 0\n",
    "END SEQUENCE"
   ]
  },
  {
   "cell_type": "code",
   "execution_count": null,
   "metadata": {},
   "source": [
    "# Test sequence execution\n",
    "%%hcs\n",
    "RUN SEQUENCE test_seq"
   ]
  }
 ],
 "metadata": {
  "kernelspec": {
   "display_name": "Python (Pyodide)",
   "language": "python",
   "name": "python"
  },
  "language_info": {
   "codemirror_mode": {
    "name": "python",
    "version": 3
   },
   "file_extension": ".py",
   "mimetype": "text/x-python",
   "name": "python",
   "nbconvert_exporter": "python",
   "pygments_lexer": "ipython3",
   "version": "3.8"
  }
 },
 "nbformat": 4,
 "nbformat_minor": 4
}
